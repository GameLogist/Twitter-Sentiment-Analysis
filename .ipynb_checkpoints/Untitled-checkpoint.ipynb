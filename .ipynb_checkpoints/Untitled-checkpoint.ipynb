{
 "cells": [
  {
   "cell_type": "code",
   "execution_count": 12,
   "metadata": {},
   "outputs": [
    {
     "name": "stdout",
     "output_type": "stream",
     "text": [
      " Enter the hashtag you want to search about: code\n",
      " Enter the number of tweets to be analyzed: 100\n",
      "BJP promises rice, salt, pulses at Re 1 in Odisha https://t.co/0XFNIvbcVc -With Code of Conduct in Place!!\n",
      "Rs 100 lk cr investment in infra by 2024: BJP manifesto https://t.co/Z6rLAi9zGz -No new programmes should be undert… https://t.co/spL9moJ3TK\n",
      "What is the reaction of people on code by analyzing 100tweets?\n",
      "negative\n"
     ]
    },
    {
     "data": {
      "image/png": "[encoded data removed]",
      "text/plain": [
       "<Figure size 432x288 with 1 Axes>"
      ]
     },
     "metadata": {},
     "output_type": "display_data"
    }
   ],
   "source": [
    "from textblob import TextBlob\n",
    "from matplotlib import pyplot as plt\n",
    "import sys\n",
    "import tweepy\n",
    "\n",
    "def percentage(part, whole):\n",
    "    return 100*float(part)/float(whole)\n",
    "\n",
    "ApiKey = \"EDPJyr5runS8PpPGlWVrdDhG6\"\n",
    "ApiKeySecret = \"ShHd8WE1RteAwCxpCuoLfpgZEAs9RXIZbZzMQKvbblpbvLDKva\"\n",
    "AcessToken = \"1117280968463802368-erI7RGps3O6kojZWK7tZyfH4LwSYML\"\n",
    "AcessTokenSecret = \"RxDKQg6fE1aGVXMBrMV8SQhfSd2OCz2AbDVHuYba98Asm\" \n",
    "\n",
    "auth = tweepy.OAuthHandler(consumer_key=ApiKey ,consumer_secret = ApiKeySecret )\n",
    "auth.set_access_token(AcessToken, AcessTokenSecret)\n",
    "api = tweepy.API(auth)\n",
    "\n",
    "\n",
    "search = input(\" Enter the hashtag you want to search about: \")\n",
    "n_search_items = int(input(\" Enter the number of tweets to be analyzed: \"))\n",
    "\n",
    "tweets = tweepy.Cursor(api.search, q =search).items(n_search_items)\n",
    "\n",
    "positive_sentiments = 0\n",
    "negative_sentiments = 0\n",
    "neutral_sentiments = 0\n",
    "polarity = 0\n",
    "\n",
    "for tweet in tweets:\n",
    "    print(tweet.text)\n",
    "    analysis = TextBlob(tweet.text)\n",
    "    polarity += analysis.sentiment.polarity\n",
    "    if( analysis.sentiment.polarity == 0 ):\n",
    "        neutral_sentiments += 1\n",
    "    elif(analysis.sentiment.polarity > 0.00 ):\n",
    "        positive_sentiments += 1\n",
    "    elif( analysis.sentiment.polarity < 0.00 ):\n",
    "        negative_sentiments += 1\n",
    "\n",
    "positive = percentage(positive_sentiments, n_search_items)\n",
    "negative = percentage(negative_sentiments, n_search_items)\n",
    "neutral = percentage(neutral_sentiments, n_search_items)\n",
    "#polarity = percentage(polarity, n_search_items)\n",
    "\n",
    "positive = format(positive,'.2f')\n",
    "negative = format(negative,'.2f')\n",
    "neutral = format(neutral,'.2f')\n",
    "#polarity = format(polarity,'.2f')\n",
    "\n",
    "print(\"What is the reaction of people on \" + search + \" by analyzing \" + str(n_search_items) + \"tweets?\")\n",
    "\n",
    "if(polarity == 0):\n",
    "    print(\"neutral\")\n",
    "if(polarity > 0):\n",
    "    print(\"positive\")\n",
    "if(polarity < 0):\n",
    "    print(\"negative\")\n",
    "\n",
    "#print(polarity) \n",
    "labels = ['Positive ['+str(positive)+'%]', 'Neutral ['+str(neutral)+'%]' ,'Negative ['+str(negative)+'%]', ]\n",
    "sizes = [positive,neutral,negative]\n",
    "colors = ['yellow','red','green']\n",
    "patches, texts = plt.pie(sizes, colors=colors, startangle=90)\n",
    "plt.legend(patches, labels, loc = 'best')\n",
    "plt.title(\"What is the reaction of people on\" + search + \" by analyzing \" + str(n_search_items) + \"tweets?\")\n",
    "plt.axis('equal')\n",
    "plt.tight_layout()\n",
    "plt.show() \n",
    "\n",
    "    \n",
    "         \n",
    "\n",
    "\n",
    "\n",
    "\n",
    "\n",
    "                       \n",
    "          \n",
    "\n",
    "\n"
   ]
  },
  {
   "cell_type": "code",
   "execution_count": null,
   "metadata": {},
   "outputs": [],
   "source": []
  },
  {
   "cell_type": "code",
   "execution_count": null,
   "metadata": {},
   "outputs": [],
   "source": []
  },
  {
   "cell_type": "code",
   "execution_count": null,
   "metadata": {},
   "outputs": [],
   "source": []
  }
 ],
 "metadata": {
  "kernelspec": {
   "display_name": "Python 3",
   "language": "python",
   "name": "python3"
  },
  "language_info": {
   "codemirror_mode": {
    "name": "ipython",
    "version": 3
   },
   "file_extension": ".py",
   "mimetype": "text/x-python",
   "name": "python",
   "nbconvert_exporter": "python",
   "pygments_lexer": "ipython3",
   "version": "3.6.6"
  }
 },
 "nbformat": 4,
 "nbformat_minor": 2
}
